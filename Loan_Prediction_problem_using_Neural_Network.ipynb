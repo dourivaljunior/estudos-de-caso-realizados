{
  "nbformat": 4,
  "nbformat_minor": 0,
  "metadata": {
    "kernelspec": {
      "name": "python3",
      "display_name": "Python 3"
    },
    "language_info": {
      "codemirror_mode": {
        "name": "ipython",
        "version": 3
      },
      "file_extension": ".py",
      "mimetype": "text/x-python",
      "name": "python",
      "nbconvert_exporter": "python",
      "pygments_lexer": "ipython3",
      "version": "3.6.5"
    },
    "colab": {
      "name": "Loan_Prediction_problem_using_Neural_Network.ipynb",
      "provenance": [],
      "collapsed_sections": [],
      "include_colab_link": true
    }
  },
  "cells": [
    {
      "cell_type": "markdown",
      "metadata": {
        "id": "view-in-github",
        "colab_type": "text"
      },
      "source": [
        "<a href=\"https://colab.research.google.com/github/dourivaljunior/estudos-de-caso/blob/main/Loan_Prediction_problem_using_Neural_Network.ipynb\" target=\"_parent\"><img src=\"https://colab.research.google.com/assets/colab-badge.svg\" alt=\"Open In Colab\"/></a>"
      ]
    },
    {
      "cell_type": "code",
      "metadata": {
        "id": "N1174ZAOqvyo",
        "colab": {
          "base_uri": "https://localhost:8080/"
        },
        "outputId": "dd62834e-e224-44de-e587-b4c48d3107c9"
      },
      "source": [
        "%tensorflow_version 1.x"
      ],
      "execution_count": null,
      "outputs": [
        {
          "output_type": "stream",
          "name": "stdout",
          "text": [
            "TensorFlow is already loaded. Please restart the runtime to change versions.\n"
          ]
        }
      ]
    },
    {
      "cell_type": "code",
      "metadata": {
        "id": "as3tljzfglKN"
      },
      "source": [
        "# importar as bibliotescas básicas\n",
        "import pandas as pd\n",
        "import numpy as np\n",
        "import matplotlib.pyplot as plt\n",
        "import matplotlib\n",
        "import matplotlib.pyplot as plt\n",
        "import seaborn as sns"
      ],
      "execution_count": null,
      "outputs": []
    },
    {
      "cell_type": "code",
      "source": [
        "from google.colab import files \n",
        "uploaded = files.upload()"
      ],
      "metadata": {
        "colab": {
          "resources": {
            "http://localhost:8080/nbextensions/google.colab/files.js": {
              "data": "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",
              "ok": true,
              "headers": [
                [
                  "content-type",
                  "application/javascript"
                ]
              ],
              "status": 200,
              "status_text": ""
            }
          },
          "base_uri": "https://localhost:8080/",
          "height": 73
        },
        "id": "IardOVJvMfil",
        "outputId": "42b3475c-4247-40f4-b87d-61271f1546e3"
      },
      "execution_count": null,
      "outputs": [
        {
          "output_type": "display_data",
          "data": {
            "text/plain": [
              "<IPython.core.display.HTML object>"
            ],
            "text/html": [
              "\n",
              "     <input type=\"file\" id=\"files-992bd2a5-71e1-42e9-912a-2c617c9a89e6\" name=\"files[]\" multiple disabled\n",
              "        style=\"border:none\" />\n",
              "     <output id=\"result-992bd2a5-71e1-42e9-912a-2c617c9a89e6\">\n",
              "      Upload widget is only available when the cell has been executed in the\n",
              "      current browser session. Please rerun this cell to enable.\n",
              "      </output>\n",
              "      <script src=\"/nbextensions/google.colab/files.js\"></script> "
            ]
          },
          "metadata": {}
        },
        {
          "output_type": "stream",
          "name": "stdout",
          "text": [
            "Saving loan_prediction_data_old.csv to loan_prediction_data_old.csv\n"
          ]
        }
      ]
    },
    {
      "cell_type": "code",
      "source": [
        "# lendo o arquivo\n",
        "df = pd.read_csv('loan_prediction_data_old.csv')"
      ],
      "metadata": {
        "id": "wgIc8LtbMmXa"
      },
      "execution_count": null,
      "outputs": []
    },
    {
      "cell_type": "code",
      "source": [
        "df=df.drop('Loan_ID',axis=1)\n",
        "x=df.drop('Loan_Status',axis=1)"
      ],
      "metadata": {
        "id": "vvjwg0SSMpW6"
      },
      "execution_count": null,
      "outputs": []
    },
    {
      "cell_type": "code",
      "source": [
        "#criando os conjuntos de treino e de teste\n",
        "columns=['Gender','Married','Dependents','Education','Self_Employed','ApplicantIncome','CoapplicantIncome',\n",
        "         'LoanAmount','Loan_Amount_Term','Credit_History','Property_Area']\n",
        "#separando dois conjuntos; 100 dados para treino e 500 dados para o teste e 13 para verificação\n",
        "data_train=df[0:420]      \n",
        "data_test=df[420:600] \n",
        "print('treino',data_train.shape,data_test.shape)  \n",
        "x_test=(data_test[columns])\n",
        "y_test=(data_test['Loan_Status'])\n",
        "print('conjunto de teste',x_test.shape,y_test.shape)\n",
        "#usar dados novos para fazer previsões novas para o modelo.\n",
        "x_new_test=(df[columns]).iloc[600:613]\n",
        "y_new_test=(df['Loan_Status']).iloc[600:613]\n",
        "print('conjunto novo',x_new_test.shape,y_new_test.shape)\n",
        "sns.countplot(data_train['Credit_History'])\n",
        "plt.show()\n",
        "print(data_train[data_train.Credit_History==0].shape,data_train[data_train.Credit_History==1].shape)"
      ],
      "metadata": {
        "colab": {
          "base_uri": "https://localhost:8080/",
          "height": 404
        },
        "id": "YwK3chTzMtxd",
        "outputId": "c532a7d4-2733-4480-d343-0017948025a3"
      },
      "execution_count": null,
      "outputs": [
        {
          "output_type": "stream",
          "name": "stdout",
          "text": [
            "treino (420, 12) (180, 12)\n",
            "conjunto de teste (180, 11) (180,)\n",
            "conjunto novo (13, 11) (13,)\n"
          ]
        },
        {
          "output_type": "stream",
          "name": "stderr",
          "text": [
            "/usr/local/lib/python3.7/dist-packages/seaborn/_decorators.py:43: FutureWarning: Pass the following variable as a keyword arg: x. From version 0.12, the only valid positional argument will be `data`, and passing other arguments without an explicit keyword will result in an error or misinterpretation.\n",
            "  FutureWarning\n"
          ]
        },
        {
          "output_type": "display_data",
          "data": {
            "text/plain": [
              "<Figure size 432x288 with 1 Axes>"
            ],
            "image/png": "[encoded data removed]"
          },
          "metadata": {
            "needs_background": "light"
          }
        },
        {
          "output_type": "stream",
          "name": "stdout",
          "text": [
            "(57, 12) (363, 12)\n"
          ]
        }
      ]
    },
    {
      "cell_type": "code",
      "source": [
        "# realizando o balanceamento das classes\n",
        "# vamos começar a fazer o balanceamento.\n",
        "# realizando o balanceamento das classes da varíavel 'Credit_History'\n",
        "import sklearn\n",
        "from sklearn.utils import resample\n",
        "data_train_classe_minoritaria=data_train[data_train.Credit_History==0]\n",
        "data_train_classe_majoritaria=data_train[data_train.Credit_History==1]\n",
        "num=len(data_train_classe_majoritaria)\n",
        "print('classe minoritária',data_train_classe_minoritaria.shape,'classe majoritária',data_train_classe_majoritaria.shape)\n",
        "data_train_classe_minoritaria_upsampled=resample(data_train_classe_minoritaria,replace = True,n_samples =num,random_state = 25)\n",
        "data_train_balanceados = pd.concat([data_train_classe_majoritaria,data_train_classe_minoritaria_upsampled])\n",
        "sns.countplot(data_train_balanceados['Credit_History'])\n",
        "plt.show()\n",
        "display('conjunto de dados de treino balanceados',data_train_balanceados.shape)"
      ],
      "metadata": {
        "colab": {
          "base_uri": "https://localhost:8080/",
          "height": 388
        },
        "id": "SlNs3Y-ZM4CE",
        "outputId": "0c3742e0-1d05-40ca-af09-884ce3bdfa14"
      },
      "execution_count": null,
      "outputs": [
        {
          "output_type": "stream",
          "name": "stdout",
          "text": [
            "classe minoritária (57, 12) classe majoritária (363, 12)\n"
          ]
        },
        {
          "output_type": "stream",
          "name": "stderr",
          "text": [
            "/usr/local/lib/python3.7/dist-packages/seaborn/_decorators.py:43: FutureWarning: Pass the following variable as a keyword arg: x. From version 0.12, the only valid positional argument will be `data`, and passing other arguments without an explicit keyword will result in an error or misinterpretation.\n",
            "  FutureWarning\n"
          ]
        },
        {
          "output_type": "display_data",
          "data": {
            "text/plain": [
              "<Figure size 432x288 with 1 Axes>"
            ],
            "image/png": "[encoded data removed]"
          },
          "metadata": {
            "needs_background": "light"
          }
        },
        {
          "output_type": "display_data",
          "data": {
            "text/plain": [
              "'conjunto de dados de treino balanceados'"
            ],
            "application/vnd.google.colaboratory.intrinsic+json": {
              "type": "string"
            }
          },
          "metadata": {}
        },
        {
          "output_type": "display_data",
          "data": {
            "text/plain": [
              "(726, 12)"
            ]
          },
          "metadata": {}
        }
      ]
    },
    {
      "cell_type": "code",
      "source": [
        "X_train=data_train_balanceados[columns]\n",
        "y_train=data_train_balanceados['Loan_Status']"
      ],
      "metadata": {
        "id": "fZhkDAhsM-ze"
      },
      "execution_count": null,
      "outputs": []
    },
    {
      "cell_type": "code",
      "metadata": {
        "id": "4jvMxwYZglLu"
      },
      "source": [
        "# não vamos usar\n",
        "#X_train,X_test,y_train,y_test = train_test_split(X,y,stratify=data['Loan_Status'],random_state=10,test_size=0.2)"
      ],
      "execution_count": null,
      "outputs": []
    },
    {
      "cell_type": "code",
      "metadata": {
        "id": "3HG0SIb2glL3",
        "colab": {
          "base_uri": "https://localhost:8080/"
        },
        "outputId": "5dd2db07-b557-46ed-80fa-e7e7574f4ce0"
      },
      "source": [
        "# shape of training and validation set\n",
        "(X_train.shape, y_train.shape), (x_test.shape, y_test.shape)"
      ],
      "execution_count": null,
      "outputs": [
        {
          "output_type": "execute_result",
          "data": {
            "text/plain": [
              "(((726, 11), (726,)), ((180, 11), (180,)))"
            ]
          },
          "metadata": {},
          "execution_count": 97
        }
      ]
    },
    {
      "cell_type": "markdown",
      "metadata": {
        "id": "e9PNy3T1glL_"
      },
      "source": [
        "## 3. Defining the architecture of the model"
      ]
    },
    {
      "cell_type": "code",
      "metadata": {
        "scrolled": true,
        "id": "IsccfqUYglMC"
      },
      "source": [
        "# checking the version of keras\n",
        "import keras"
      ],
      "execution_count": null,
      "outputs": []
    },
    {
      "cell_type": "code",
      "metadata": {
        "id": "XMLvwm5wglMK"
      },
      "source": [
        "# checking the version of tensorflow\n",
        "import tensorflow as tf"
      ],
      "execution_count": null,
      "outputs": []
    },
    {
      "cell_type": "code",
      "metadata": {
        "id": "O-Pl7OO8glMT"
      },
      "source": [
        "# importing the sequential model\n",
        "from keras.models import Sequential"
      ],
      "execution_count": null,
      "outputs": []
    },
    {
      "cell_type": "code",
      "metadata": {
        "scrolled": true,
        "id": "NDU-YCD0glMb"
      },
      "source": [
        "# importing different layers from keras\n",
        "from keras.layers import InputLayer, Dense "
      ],
      "execution_count": null,
      "outputs": []
    },
    {
      "cell_type": "code",
      "metadata": {
        "id": "xtOwk66BglMl",
        "colab": {
          "base_uri": "https://localhost:8080/"
        },
        "outputId": "6571b10a-a38f-40b2-d2dd-9275d6a80f52"
      },
      "source": [
        "# number of input neurons\n",
        "X_train.shape"
      ],
      "execution_count": null,
      "outputs": [
        {
          "output_type": "execute_result",
          "data": {
            "text/plain": [
              "(726, 11)"
            ]
          },
          "metadata": {},
          "execution_count": 102
        }
      ]
    },
    {
      "cell_type": "code",
      "metadata": {
        "scrolled": true,
        "id": "dA2TqMbsglMq",
        "colab": {
          "base_uri": "https://localhost:8080/"
        },
        "outputId": "f3baa7dd-9de1-40f1-a3e7-ab96252434d8"
      },
      "source": [
        "# number of features in the data\n",
        "X_train.shape[1]"
      ],
      "execution_count": null,
      "outputs": [
        {
          "output_type": "execute_result",
          "data": {
            "text/plain": [
              "11"
            ]
          },
          "metadata": {},
          "execution_count": 103
        }
      ]
    },
    {
      "cell_type": "code",
      "metadata": {
        "id": "ajgIDiLSglMx"
      },
      "source": [
        "# defining input neurons\n",
        "input_neurons = X_train.shape[1]"
      ],
      "execution_count": null,
      "outputs": []
    },
    {
      "cell_type": "code",
      "metadata": {
        "id": "fu76LxuVglM6"
      },
      "source": [
        "# number of output neurons\n",
        "\n",
        "# since loan prediction is a binary classification problem, we will have single neuron in the output layer "
      ],
      "execution_count": null,
      "outputs": []
    },
    {
      "cell_type": "code",
      "metadata": {
        "id": "taMhxkl4glNB"
      },
      "source": [
        "# define number of output neurons\n",
        "output_neurons = 1"
      ],
      "execution_count": null,
      "outputs": []
    },
    {
      "cell_type": "code",
      "metadata": {
        "id": "cHsm2c7kglNF"
      },
      "source": [
        "# number of hidden layers and hidden neurons\n",
        "# It is a hyperparameter and we can pick the hidden layers and hidden neurons on our own"
      ],
      "execution_count": null,
      "outputs": []
    },
    {
      "cell_type": "code",
      "metadata": {
        "id": "sMqdeXysqztM"
      },
      "source": [
        "# define hidden layers and neuron in each layer\n",
        "number_of_hidden_layers = 2\n",
        "neuron_hidden_layer_1 = 10\n",
        "neuron_hidden_layer_2 = 5"
      ],
      "execution_count": null,
      "outputs": []
    },
    {
      "cell_type": "code",
      "metadata": {
        "id": "HKTCB3K1glNQ"
      },
      "source": [
        "# activation function of different layers\n",
        "# for now I have picked relu as an activation function for hidden layers, you can change it as well\n",
        "# since it is a binary classification problem, I have used sigmoid activation function in the final layer"
      ],
      "execution_count": null,
      "outputs": []
    },
    {
      "cell_type": "code",
      "metadata": {
        "id": "lJeV8sQyq1rj"
      },
      "source": [
        "# defining the architecture of the model\n",
        "model = Sequential()\n",
        "model.add(InputLayer(input_shape=(input_neurons,)))\n",
        "model.add(Dense(units=neuron_hidden_layer_1, activation='relu'))\n",
        "model.add(Dense(units=neuron_hidden_layer_2, activation='relu'))\n",
        "model.add(Dense(units=output_neurons, activation='sigmoid'))"
      ],
      "execution_count": null,
      "outputs": []
    },
    {
      "cell_type": "code",
      "metadata": {
        "id": "E9tXg_08q3n0",
        "outputId": "a610c323-766b-46ed-d3e2-c5dc4779be26",
        "colab": {
          "base_uri": "https://localhost:8080/"
        }
      },
      "source": [
        "# summary of the model\n",
        "model.summary()"
      ],
      "execution_count": null,
      "outputs": [
        {
          "output_type": "stream",
          "name": "stdout",
          "text": [
            "Model: \"sequential_2\"\n",
            "_________________________________________________________________\n",
            " Layer (type)                Output Shape              Param #   \n",
            "=================================================================\n",
            " dense_6 (Dense)             (None, 10)                120       \n",
            "                                                                 \n",
            " dense_7 (Dense)             (None, 5)                 55        \n",
            "                                                                 \n",
            " dense_8 (Dense)             (None, 1)                 6         \n",
            "                                                                 \n",
            "=================================================================\n",
            "Total params: 181\n",
            "Trainable params: 181\n",
            "Non-trainable params: 0\n",
            "_________________________________________________________________\n"
          ]
        }
      ]
    },
    {
      "cell_type": "code",
      "metadata": {
        "id": "PnsVNEbZglNf",
        "outputId": "7cca8786-33af-437e-d0be-57210fda93fc",
        "colab": {
          "base_uri": "https://localhost:8080/"
        }
      },
      "source": [
        "# number of parameters between input and first hidden layer\n",
        "\n",
        "input_neurons*neuron_hidden_layer_1"
      ],
      "execution_count": null,
      "outputs": [
        {
          "output_type": "execute_result",
          "data": {
            "text/plain": [
              "110"
            ]
          },
          "metadata": {},
          "execution_count": 112
        }
      ]
    },
    {
      "cell_type": "code",
      "metadata": {
        "scrolled": true,
        "id": "npisFmvIglNl",
        "outputId": "6e6367cb-c5a5-4e1c-b375-a8fed5288500",
        "colab": {
          "base_uri": "https://localhost:8080/"
        }
      },
      "source": [
        "# number of parameters between input and first hidden layer\n",
        "# adding the bias for each neuron of first hidden layer\n",
        "\n",
        "input_neurons*neuron_hidden_layer_1 + 10"
      ],
      "execution_count": null,
      "outputs": [
        {
          "output_type": "execute_result",
          "data": {
            "text/plain": [
              "120"
            ]
          },
          "metadata": {},
          "execution_count": 113
        }
      ]
    },
    {
      "cell_type": "code",
      "metadata": {
        "id": "j37Xpr-8glNq",
        "outputId": "6b63d67c-5cfe-4435-cf5c-d97958cd5854",
        "colab": {
          "base_uri": "https://localhost:8080/"
        }
      },
      "source": [
        "# number of parameters between first and second hidden layer\n",
        "neuron_hidden_layer_1*neuron_hidden_layer_2 + 5"
      ],
      "execution_count": null,
      "outputs": [
        {
          "output_type": "execute_result",
          "data": {
            "text/plain": [
              "55"
            ]
          },
          "metadata": {},
          "execution_count": 114
        }
      ]
    },
    {
      "cell_type": "code",
      "metadata": {
        "id": "UXrvaFnXglNu",
        "outputId": "fa295a7e-873b-4876-d655-443e2123240f",
        "colab": {
          "base_uri": "https://localhost:8080/"
        }
      },
      "source": [
        "# number of parameters between second hidden and output layer\n",
        "neuron_hidden_layer_2*output_neurons + 1"
      ],
      "execution_count": null,
      "outputs": [
        {
          "output_type": "execute_result",
          "data": {
            "text/plain": [
              "6"
            ]
          },
          "metadata": {},
          "execution_count": 115
        }
      ]
    },
    {
      "cell_type": "code",
      "metadata": {
        "id": "P6hqkDWIglN0"
      },
      "source": [
        "# compiling the model\n",
        "# loss as binary_crossentropy, since we have binary classification problem\n",
        "# defining the optimizer as adam\n",
        "# Evaluation metric as accuracy\n",
        "model.compile(loss='binary_crossentropy',optimizer='Adam',metrics=['accuracy'])"
      ],
      "execution_count": null,
      "outputs": []
    },
    {
      "cell_type": "code",
      "metadata": {
        "id": "pViJI3-TglN6",
        "outputId": "493b941d-e58e-48ee-d84a-5000cb99749f",
        "colab": {
          "base_uri": "https://localhost:8080/"
        }
      },
      "source": [
        "# training the model\n",
        "# passing the independent and dependent features for training set for training the model\n",
        "# validation data will be evaluated at the end of each epoch\n",
        "# setting the epochs as 50\n",
        "# storing the trained model in model_history variable which will be used to visualize the training process\n",
        "model_history = model.fit(X_train, y_train, validation_data=(x_test, y_test), epochs=50)"
      ],
      "execution_count": null,
      "outputs": [
        {
          "output_type": "stream",
          "name": "stdout",
          "text": [
            "Epoch 1/50\n",
            "23/23 [==============================] - 1s 15ms/step - loss: 0.6624 - accuracy: 0.5647 - val_loss: 0.7536 - val_accuracy: 0.3111\n",
            "Epoch 2/50\n",
            "23/23 [==============================] - 0s 5ms/step - loss: 0.6513 - accuracy: 0.5771 - val_loss: 0.7312 - val_accuracy: 0.3722\n",
            "Epoch 3/50\n",
            "23/23 [==============================] - 0s 6ms/step - loss: 0.6417 - accuracy: 0.6006 - val_loss: 0.7290 - val_accuracy: 0.3778\n",
            "Epoch 4/50\n",
            "23/23 [==============================] - 0s 5ms/step - loss: 0.6320 - accuracy: 0.6061 - val_loss: 0.7277 - val_accuracy: 0.3833\n",
            "Epoch 5/50\n",
            "23/23 [==============================] - 0s 5ms/step - loss: 0.6216 - accuracy: 0.6198 - val_loss: 0.7196 - val_accuracy: 0.4222\n",
            "Epoch 6/50\n",
            "23/23 [==============================] - 0s 5ms/step - loss: 0.6105 - accuracy: 0.6515 - val_loss: 0.7117 - val_accuracy: 0.4500\n",
            "Epoch 7/50\n",
            "23/23 [==============================] - 0s 6ms/step - loss: 0.5993 - accuracy: 0.6749 - val_loss: 0.7042 - val_accuracy: 0.4500\n",
            "Epoch 8/50\n",
            "23/23 [==============================] - 0s 7ms/step - loss: 0.5864 - accuracy: 0.6942 - val_loss: 0.6900 - val_accuracy: 0.5000\n",
            "Epoch 9/50\n",
            "23/23 [==============================] - 0s 6ms/step - loss: 0.5731 - accuracy: 0.7176 - val_loss: 0.6744 - val_accuracy: 0.5722\n",
            "Epoch 10/50\n",
            "23/23 [==============================] - 0s 5ms/step - loss: 0.5592 - accuracy: 0.7466 - val_loss: 0.6631 - val_accuracy: 0.6056\n",
            "Epoch 11/50\n",
            "23/23 [==============================] - 0s 6ms/step - loss: 0.5445 - accuracy: 0.7741 - val_loss: 0.6422 - val_accuracy: 0.6889\n",
            "Epoch 12/50\n",
            "23/23 [==============================] - 0s 5ms/step - loss: 0.5267 - accuracy: 0.7824 - val_loss: 0.6279 - val_accuracy: 0.7000\n",
            "Epoch 13/50\n",
            "23/23 [==============================] - 0s 5ms/step - loss: 0.5101 - accuracy: 0.7920 - val_loss: 0.6087 - val_accuracy: 0.7500\n",
            "Epoch 14/50\n",
            "23/23 [==============================] - 0s 5ms/step - loss: 0.4938 - accuracy: 0.8140 - val_loss: 0.5851 - val_accuracy: 0.7778\n",
            "Epoch 15/50\n",
            "23/23 [==============================] - 0s 5ms/step - loss: 0.4752 - accuracy: 0.8223 - val_loss: 0.5588 - val_accuracy: 0.8000\n",
            "Epoch 16/50\n",
            "23/23 [==============================] - 0s 6ms/step - loss: 0.4520 - accuracy: 0.8361 - val_loss: 0.5192 - val_accuracy: 0.8389\n",
            "Epoch 17/50\n",
            "23/23 [==============================] - 0s 5ms/step - loss: 0.4300 - accuracy: 0.8402 - val_loss: 0.4947 - val_accuracy: 0.8333\n",
            "Epoch 18/50\n",
            "23/23 [==============================] - 0s 5ms/step - loss: 0.4165 - accuracy: 0.8430 - val_loss: 0.4795 - val_accuracy: 0.8333\n",
            "Epoch 19/50\n",
            "23/23 [==============================] - 0s 5ms/step - loss: 0.4065 - accuracy: 0.8444 - val_loss: 0.4763 - val_accuracy: 0.8333\n",
            "Epoch 20/50\n",
            "23/23 [==============================] - 0s 5ms/step - loss: 0.4011 - accuracy: 0.8444 - val_loss: 0.4698 - val_accuracy: 0.8333\n",
            "Epoch 21/50\n",
            "23/23 [==============================] - 0s 5ms/step - loss: 0.3967 - accuracy: 0.8444 - val_loss: 0.4651 - val_accuracy: 0.8333\n",
            "Epoch 22/50\n",
            "23/23 [==============================] - 0s 5ms/step - loss: 0.3932 - accuracy: 0.8444 - val_loss: 0.4674 - val_accuracy: 0.8333\n",
            "Epoch 23/50\n",
            "23/23 [==============================] - 0s 6ms/step - loss: 0.3913 - accuracy: 0.8444 - val_loss: 0.4665 - val_accuracy: 0.8333\n",
            "Epoch 24/50\n",
            "23/23 [==============================] - 0s 6ms/step - loss: 0.3898 - accuracy: 0.8444 - val_loss: 0.4656 - val_accuracy: 0.8333\n",
            "Epoch 25/50\n",
            "23/23 [==============================] - 0s 5ms/step - loss: 0.3892 - accuracy: 0.8444 - val_loss: 0.4645 - val_accuracy: 0.8333\n",
            "Epoch 26/50\n",
            "23/23 [==============================] - 0s 5ms/step - loss: 0.3864 - accuracy: 0.8444 - val_loss: 0.4655 - val_accuracy: 0.8278\n",
            "Epoch 27/50\n",
            "23/23 [==============================] - 0s 5ms/step - loss: 0.3859 - accuracy: 0.8444 - val_loss: 0.4628 - val_accuracy: 0.8333\n",
            "Epoch 28/50\n",
            "23/23 [==============================] - 0s 5ms/step - loss: 0.3838 - accuracy: 0.8444 - val_loss: 0.4656 - val_accuracy: 0.8278\n",
            "Epoch 29/50\n",
            "23/23 [==============================] - 0s 5ms/step - loss: 0.3820 - accuracy: 0.8444 - val_loss: 0.4638 - val_accuracy: 0.8278\n",
            "Epoch 30/50\n",
            "23/23 [==============================] - 0s 5ms/step - loss: 0.3820 - accuracy: 0.8444 - val_loss: 0.4642 - val_accuracy: 0.8278\n",
            "Epoch 31/50\n",
            "23/23 [==============================] - 0s 5ms/step - loss: 0.3800 - accuracy: 0.8444 - val_loss: 0.4639 - val_accuracy: 0.8278\n",
            "Epoch 32/50\n",
            "23/23 [==============================] - 0s 6ms/step - loss: 0.3793 - accuracy: 0.8430 - val_loss: 0.4636 - val_accuracy: 0.8278\n",
            "Epoch 33/50\n",
            "23/23 [==============================] - 0s 5ms/step - loss: 0.3777 - accuracy: 0.8430 - val_loss: 0.4637 - val_accuracy: 0.8278\n",
            "Epoch 34/50\n",
            "23/23 [==============================] - 0s 5ms/step - loss: 0.3769 - accuracy: 0.8430 - val_loss: 0.4656 - val_accuracy: 0.8278\n",
            "Epoch 35/50\n",
            "23/23 [==============================] - 0s 6ms/step - loss: 0.3765 - accuracy: 0.8444 - val_loss: 0.4649 - val_accuracy: 0.8278\n",
            "Epoch 36/50\n",
            "23/23 [==============================] - 0s 5ms/step - loss: 0.3755 - accuracy: 0.8444 - val_loss: 0.4633 - val_accuracy: 0.8278\n",
            "Epoch 37/50\n",
            "23/23 [==============================] - 0s 5ms/step - loss: 0.3759 - accuracy: 0.8444 - val_loss: 0.4679 - val_accuracy: 0.8222\n",
            "Epoch 38/50\n",
            "23/23 [==============================] - 0s 5ms/step - loss: 0.3756 - accuracy: 0.8444 - val_loss: 0.4623 - val_accuracy: 0.8278\n",
            "Epoch 39/50\n",
            "23/23 [==============================] - 0s 5ms/step - loss: 0.3742 - accuracy: 0.8444 - val_loss: 0.4664 - val_accuracy: 0.8222\n",
            "Epoch 40/50\n",
            "23/23 [==============================] - 0s 6ms/step - loss: 0.3724 - accuracy: 0.8444 - val_loss: 0.4635 - val_accuracy: 0.8278\n",
            "Epoch 41/50\n",
            "23/23 [==============================] - 0s 5ms/step - loss: 0.3715 - accuracy: 0.8444 - val_loss: 0.4651 - val_accuracy: 0.8222\n",
            "Epoch 42/50\n",
            "23/23 [==============================] - 0s 5ms/step - loss: 0.3709 - accuracy: 0.8444 - val_loss: 0.4638 - val_accuracy: 0.8278\n",
            "Epoch 43/50\n",
            "23/23 [==============================] - 0s 5ms/step - loss: 0.3704 - accuracy: 0.8444 - val_loss: 0.4641 - val_accuracy: 0.8222\n",
            "Epoch 44/50\n",
            "23/23 [==============================] - 0s 5ms/step - loss: 0.3698 - accuracy: 0.8444 - val_loss: 0.4642 - val_accuracy: 0.8222\n",
            "Epoch 45/50\n",
            "23/23 [==============================] - 0s 6ms/step - loss: 0.3694 - accuracy: 0.8457 - val_loss: 0.4650 - val_accuracy: 0.8222\n",
            "Epoch 46/50\n",
            "23/23 [==============================] - 0s 6ms/step - loss: 0.3686 - accuracy: 0.8457 - val_loss: 0.4639 - val_accuracy: 0.8222\n",
            "Epoch 47/50\n",
            "23/23 [==============================] - 0s 6ms/step - loss: 0.3680 - accuracy: 0.8444 - val_loss: 0.4647 - val_accuracy: 0.8222\n",
            "Epoch 48/50\n",
            "23/23 [==============================] - 0s 5ms/step - loss: 0.3678 - accuracy: 0.8444 - val_loss: 0.4614 - val_accuracy: 0.8278\n",
            "Epoch 49/50\n",
            "23/23 [==============================] - 0s 5ms/step - loss: 0.3665 - accuracy: 0.8457 - val_loss: 0.4636 - val_accuracy: 0.8222\n",
            "Epoch 50/50\n",
            "23/23 [==============================] - 0s 5ms/step - loss: 0.3654 - accuracy: 0.8444 - val_loss: 0.4623 - val_accuracy: 0.8278\n"
          ]
        }
      ]
    },
    {
      "cell_type": "code",
      "source": [
        "# getting predictions for the validation set\n",
        "#prediction = model.predict_classes(X_test)"
      ],
      "metadata": {
        "id": "_GTSu7qd7mf6"
      },
      "execution_count": null,
      "outputs": []
    },
    {
      "cell_type": "code",
      "metadata": {
        "id": "qpBoHi7jglN_"
      },
      "source": [
        "# getting predictions for the validation set\n",
        "#predict_x=model.predict(X_test) \n",
        "#classes_x=np.argmax(predict_x,axis=1)\n",
        "#prediction = model.predict_classes(X_test)\n",
        "prediction = (model.predict(x_test) > 0.5).astype(\"int32\")"
      ],
      "execution_count": null,
      "outputs": []
    },
    {
      "cell_type": "code",
      "metadata": {
        "id": "jMapdscmglOD",
        "outputId": "cca4708c-cc0c-4aa9-d2f3-d8334aef3a78",
        "colab": {
          "base_uri": "https://localhost:8080/"
        }
      },
      "source": [
        "# calculating the accuracy on validation set\n",
        "round(accuracy_score(y_test, prediction)*100,2)"
      ],
      "execution_count": null,
      "outputs": [
        {
          "output_type": "execute_result",
          "data": {
            "text/plain": [
              "82.78"
            ]
          },
          "metadata": {},
          "execution_count": 120
        }
      ]
    },
    {
      "cell_type": "code",
      "metadata": {
        "id": "68APv0UuglOI",
        "outputId": "212b5a17-a9e2-4558-f4bf-3d018b88c0b0",
        "colab": {
          "base_uri": "https://localhost:8080/",
          "height": 295
        }
      },
      "source": [
        "# summarize history for loss\n",
        "plt.plot(model_history.history['loss'])\n",
        "plt.plot(model_history.history['val_loss'])\n",
        "plt.title('model loss')\n",
        "plt.ylabel('loss')\n",
        "plt.xlabel('epoch')\n",
        "plt.legend(['train', 'validation'], loc='upper left')\n",
        "plt.show()"
      ],
      "execution_count": null,
      "outputs": [
        {
          "output_type": "display_data",
          "data": {
            "text/plain": [
              "<Figure size 432x288 with 1 Axes>"
            ],
            "image/png": "[encoded data removed]"
          },
          "metadata": {
            "needs_background": "light"
          }
        }
      ]
    },
    {
      "cell_type": "code",
      "metadata": {
        "id": "AiKe0wBbglOM",
        "outputId": "6bbca85a-650d-4cf0-ffb4-bd4eef66655c",
        "colab": {
          "base_uri": "https://localhost:8080/",
          "height": 295
        }
      },
      "source": [
        "# summarize history for accuracy\n",
        "plt.plot(model_history.history['accuracy'])\n",
        "plt.plot(model_history.history['val_accuracy'])\n",
        "plt.title('model accuracy')\n",
        "plt.ylabel('accuracy')\n",
        "plt.xlabel('epoch')\n",
        "plt.legend(['train', 'validation'], loc='upper left')\n",
        "plt.show()"
      ],
      "execution_count": null,
      "outputs": [
        {
          "output_type": "display_data",
          "data": {
            "text/plain": [
              "<Figure size 432x288 with 1 Axes>"
            ],
            "image/png": "[encoded data removed]"
          },
          "metadata": {
            "needs_background": "light"
          }
        }
      ]
    },
    {
      "cell_type": "code",
      "metadata": {
        "id": "tvVzU1Gwu7mb"
      },
      "source": [
        "#FIM"
      ],
      "execution_count": null,
      "outputs": []
    }
  ]
}